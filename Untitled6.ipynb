{
  "nbformat": 4,
  "nbformat_minor": 0,
  "metadata": {
    "colab": {
      "provenance": [],
      "authorship_tag": "ABX9TyPcbb3gRAzK94233jEMYzyn",
      "include_colab_link": true
    },
    "kernelspec": {
      "name": "python3",
      "display_name": "Python 3"
    },
    "language_info": {
      "name": "python"
    }
  },
  "cells": [
    {
      "cell_type": "markdown",
      "metadata": {
        "id": "view-in-github",
        "colab_type": "text"
      },
      "source": [
        "<a href=\"https://colab.research.google.com/github/Ananthucsajayan/Ananthucsajayan/blob/main/Untitled6.ipynb\" target=\"_parent\"><img src=\"https://colab.research.google.com/assets/colab-badge.svg\" alt=\"Open In Colab\"/></a>"
      ]
    },
    {
      "cell_type": "code",
      "execution_count": 1,
      "metadata": {
        "colab": {
          "base_uri": "https://localhost:8080/"
        },
        "id": "Oo0F5u6x80gg",
        "outputId": "0e34b6ac-9c40-4fb9-e72d-0fb5679bc6d6"
      },
      "outputs": [
        {
          "output_type": "stream",
          "name": "stdout",
          "text": [
            "Collecting pysummarization\n",
            "  Downloading pysummarization-1.1.9.tar.gz (64 kB)\n",
            "\u001b[2K     \u001b[90m━━━━━━━━━━━━━━━━━━━━━━━━━━━━━━━━━━━━━━━━\u001b[0m \u001b[32m64.2/64.2 kB\u001b[0m \u001b[31m1.4 MB/s\u001b[0m eta \u001b[36m0:00:00\u001b[0m\n",
            "\u001b[?25h  Preparing metadata (setup.py) ... \u001b[?25l\u001b[?25hdone\n",
            "Requirement already satisfied: numpy in /usr/local/lib/python3.10/dist-packages (from pysummarization) (1.25.2)\n",
            "Requirement already satisfied: nltk in /usr/local/lib/python3.10/dist-packages (from pysummarization) (3.8.1)\n",
            "Requirement already satisfied: click in /usr/local/lib/python3.10/dist-packages (from nltk->pysummarization) (8.1.7)\n",
            "Requirement already satisfied: joblib in /usr/local/lib/python3.10/dist-packages (from nltk->pysummarization) (1.3.2)\n",
            "Requirement already satisfied: regex>=2021.8.3 in /usr/local/lib/python3.10/dist-packages (from nltk->pysummarization) (2023.12.25)\n",
            "Requirement already satisfied: tqdm in /usr/local/lib/python3.10/dist-packages (from nltk->pysummarization) (4.66.2)\n",
            "Building wheels for collected packages: pysummarization\n",
            "  Building wheel for pysummarization (setup.py) ... \u001b[?25l\u001b[?25hdone\n",
            "  Created wheel for pysummarization: filename=pysummarization-1.1.9-py3-none-any.whl size=82362 sha256=9f1b88cc7e626c20e8aa3ac7885152352c43da2e78d473447811cae6bd2f18f3\n",
            "  Stored in directory: /root/.cache/pip/wheels/08/d8/9e/940eb35676a1f5dae2f4bb5dc4752e9a00a7affba172bae36c\n",
            "Successfully built pysummarization\n",
            "Installing collected packages: pysummarization\n",
            "Successfully installed pysummarization-1.1.9\n"
          ]
        }
      ],
      "source": [
        "!pip install pysummarization\n"
      ]
    },
    {
      "cell_type": "code",
      "source": [
        "from pysummarization.text_summarizer import TextSummarizer\n",
        "\n",
        "text_summarizer = TextSummarizer()\n",
        "\n",
        "text = \"\"\"\n",
        "The European Union (EU) is a political and economic union of 27 member states that are located primarily in Europe. The EU has an area of 4,233,255.3 km2 (1,634,463.0 sq mi) and an estimated population of about 447 million. The EU has developed a single market through a standardized system of laws that apply in all member states. The EU is the world's largest economy and has the second-largest GDP in the world. The EU is also a major political and cultural force in the world.\n",
        "\"\"\"\n",
        "\n",
        "\n",
        "ratio = 0.5\n",
        "\n",
        "\n",
        "summary = text_summarizer.summarize(text, ratio)\n",
        "\n",
        "\n",
        "print(summary)\n"
      ],
      "metadata": {
        "colab": {
          "base_uri": "https://localhost:8080/",
          "height": 384
        },
        "id": "Nfucruf182CZ",
        "outputId": "5bc191d6-2a0d-462f-f800-5cd50cc2c61c"
      },
      "execution_count": 2,
      "outputs": [
        {
          "output_type": "error",
          "ename": "ModuleNotFoundError",
          "evalue": "No module named 'pysummarization.text_summarizer'",
          "traceback": [
            "\u001b[0;31m---------------------------------------------------------------------------\u001b[0m",
            "\u001b[0;31mModuleNotFoundError\u001b[0m                       Traceback (most recent call last)",
            "\u001b[0;32m<ipython-input-2-7b30976d6a62>\u001b[0m in \u001b[0;36m<cell line: 1>\u001b[0;34m()\u001b[0m\n\u001b[0;32m----> 1\u001b[0;31m \u001b[0;32mfrom\u001b[0m \u001b[0mpysummarization\u001b[0m\u001b[0;34m.\u001b[0m\u001b[0mtext_summarizer\u001b[0m \u001b[0;32mimport\u001b[0m \u001b[0mTextSummarizer\u001b[0m\u001b[0;34m\u001b[0m\u001b[0;34m\u001b[0m\u001b[0m\n\u001b[0m\u001b[1;32m      2\u001b[0m \u001b[0;34m\u001b[0m\u001b[0m\n\u001b[1;32m      3\u001b[0m \u001b[0mtext_summarizer\u001b[0m \u001b[0;34m=\u001b[0m \u001b[0mTextSummarizer\u001b[0m\u001b[0;34m(\u001b[0m\u001b[0;34m)\u001b[0m\u001b[0;34m\u001b[0m\u001b[0;34m\u001b[0m\u001b[0m\n\u001b[1;32m      4\u001b[0m \u001b[0;34m\u001b[0m\u001b[0m\n\u001b[1;32m      5\u001b[0m text = \"\"\"\n",
            "\u001b[0;31mModuleNotFoundError\u001b[0m: No module named 'pysummarization.text_summarizer'",
            "",
            "\u001b[0;31m---------------------------------------------------------------------------\u001b[0;32m\nNOTE: If your import is failing due to a missing package, you can\nmanually install dependencies using either !pip or !apt.\n\nTo view examples of installing some common dependencies, click the\n\"Open Examples\" button below.\n\u001b[0;31m---------------------------------------------------------------------------\u001b[0m\n"
          ],
          "errorDetails": {
            "actions": [
              {
                "action": "open_url",
                "actionText": "Open Examples",
                "url": "/notebooks/snippets/importing_libraries.ipynb"
              }
            ]
          }
        }
      ]
    }
  ]
}